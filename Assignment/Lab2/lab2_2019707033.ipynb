{
 "cells": [
  {
   "cell_type": "markdown",
   "source": [
    "# Lab2 2019707033 김태윤\r\n",
    "\r\n",
    " \t\r\n",
    "\r\n",
    "Lab assignment #2:\r\n",
    "\r\n",
    "\r\n",
    "1. 수업 시간에 보았던 예제를 참고하여 Indeed Web page 에서 채용 정보 검색 후 모든 페이지에 대해 결과 print 하기.\r\n",
    "\r\n",
    "   (검색어=\"data scientist\", 지역=\"서울특별시\")\r\n",
    "\r\n",
    "\r\n",
    "2. 미래에 취업 희망하는 회사를 검색해서 (기업리뷰) 그 회사의 리뷰 내용을 프린트 하기\r\n",
    "\r\n",
    "   (만약 한 페이지가 넘으면 모든 페이지에 대해 검색하되 상한선은 20 개 정도로 정함)\r\n"
   ],
   "metadata": {}
  },
  {
   "cell_type": "code",
   "execution_count": 2,
   "source": [
    "import requests\r\n",
    "import numpy as np\r\n",
    "import pandas as pd\r\n",
    "import math\r\n",
    "from bs4 import BeautifulSoup\r\n",
    "from tabulate import tabulate"
   ],
   "outputs": [],
   "metadata": {}
  },
  {
   "cell_type": "markdown",
   "source": [
    "- - -\r\n",
    "# 1. 수업시간에 보았던 예제를 참고하여 Indedd Web page에서 채용 정보 검색 후 모든 페이지에 대해 결과 print 하기\r\n",
    "                (검색어=\"data scientist\", 지역=\"서울특별시\")"
   ],
   "metadata": {}
  },
  {
   "cell_type": "markdown",
   "source": [
    "## 검색 결과 페이지수 탐색\r\n"
   ],
   "metadata": {}
  },
  {
   "cell_type": "code",
   "execution_count": 3,
   "source": [
    "# 검색 결과 첫 페이지 가져오기\r\n",
    "url = 'https://kr.indeed.com/jobs?q=data+scientist&l=%EC%84%9C%EC%9A%B8%ED%8A%B9%EB%B3%84%EC%8B%9C&sort=date&start=0'\r\n",
    "link = requests.get(url)\r\n",
    "soup = BeautifulSoup(link.text, 'html.parser')"
   ],
   "outputs": [],
   "metadata": {}
  },
  {
   "cell_type": "code",
   "execution_count": 6,
   "source": [
    "# 페이지 수 계산\r\n",
    "items = int(soup.find('div', id=\"searchCountPages\").text[29:-1])\r\n",
    "pages = math.ceil(items/15)\r\n",
    "print(\"검색 결과 수 : \", items)\r\n",
    "print(\"검색 결과 페이지 수 : \", pages)"
   ],
   "outputs": [
    {
     "output_type": "stream",
     "name": "stdout",
     "text": [
      "검색 결과 수 :  62\n",
      "검색 결과 페이지 수 :  5\n"
     ]
    }
   ],
   "metadata": {}
  },
  {
   "cell_type": "markdown",
   "source": [
    "## 모든 페이지 결과 종합"
   ],
   "metadata": {}
  },
  {
   "cell_type": "code",
   "execution_count": 5,
   "source": [
    "list_result = []\r\n",
    "count_item = 0\r\n",
    "for page in range(pages):\r\n",
    "    # 메뉴 테스트\r\n",
    "    url = \"https://kr.indeed.com/jobs?q=data+scientist&l=%EC%84%9C%EC%9A%B8%ED%8A%B9%EB%B3%84%EC%8B%9C&sort=date&start=\"+str(page*10)\r\n",
    "    link = requests.get(url)\r\n",
    "    soup = BeautifulSoup(link.text, \"html.parser\")\r\n",
    "    \r\n",
    "    job_elems = soup.select(\".resultContent\")\r\n",
    "\r\n",
    "    for x in job_elems:\r\n",
    "        title = x.find(\"h2\")\r\n",
    "        company = x.find(\"span\", class_=\"companyName\")\r\n",
    "        location = x.find(\"div\", class_=\"companyLocation\")\r\n",
    "\r\n",
    "        if None in (title, company, location):\r\n",
    "            continue\r\n",
    "\r\n",
    "        list_result.append(title.text.strip())\r\n",
    "        list_result.append(company.text.strip())\r\n",
    "        list_result.append(location.text.strip())\r\n",
    "\r\n",
    "        count_item+=1\r\n",
    "    \r\n",
    "    print(str(page+1)+\" page Checked.\")\r\n",
    "\r\n",
    "print()\r\n",
    "list_result = np.reshape(list_result, (-1, 3))\r\n",
    "print(tabulate(list_result, headers = [\"Title\", \"Company\", \"Location\"]))"
   ],
   "outputs": [
    {
     "output_type": "stream",
     "name": "stdout",
     "text": [
      "1 page Checked.\n",
      "2 page Checked.\n",
      "3 page Checked.\n",
      "4 page Checked.\n",
      "5 page Checked.\n",
      "\n",
      "Title                                                                                Company                                                Location\n",
      "-----------------------------------------------------------------------------------  -----------------------------------------------------  --------------\n",
      "new[AIRS] Data Scientist                                                             현대자동차그룹                                         서울\n",
      "new제약사 Data Scientist 및 Data Engineer                                            중견기업 / 코스피상장사 / 1100명 / 5000억 매출         서울\n",
      "newData Scientist Data Architect Data Engineering DBA                                Data Scientist Data Architect Data Engineering DBA     서울\n",
      "newData Scientist (경력)                                                             데브시스터즈                                           서울 강남구\n",
      "new석유화학업종 경력 Data Scientist 대기업 정규직                                    1조 매출 규모의 석유화학 대기업                        서울\n",
      "newData Architect Data Engineering                                                   - 40명 / 500억 매출규모의 스타트업 (국내 대기업 투자)  서울\n",
      "newData Scientist 경력인재 - 글로벌 우량대기업                                       에스에프인촌                                           서울\n",
      "new경영전략/Data Scientist 경력인재 - 글로벌 우량대기업                              에스에프인촌                                           서울\n",
      "new[대기업 연구소] (Senior Recruiter) 담당자                                         커리어라임즈                                           서울 강서구\n",
      "new[석유화학 대기업] Data Scientist                                                  커리어라임즈                                           서울 서대문구\n",
      "new[외국계 스타트업 미소] Data Scientist                                             유한회사 미소                                          서울 서초구\n",
      "[글로벌컨설팅사] Data Scientist                                                      인코리아 프로페셔널                                    서울\n",
      "마케팅 전략, e-Commerce 비즈니스 사업/운영전략, 소비자 데이터 분석(Data Analytics),  코어포인트                                             서울 송파구\n",
      "new[Global] Data Scientist in AI research                                            Lunit                                                  서울\n",
      "newGSK Consumer - NPD Senior Scientist – Wellness/OTC                                GSK                                                    서울\n",
      "Data Scientist                                                                       Soomgo                                                 서울 강남구\n",
      "Data Scientist                                                                       IBM                                                    서울\n",
      "Go to Market - Scientist PhD                                                         Procter & Gamble                                       서울\n",
      "국제시장 Analyst & Data Scientist                                                    코리아피디에스                                         서울 마포구\n",
      "데이터인사이트팀 Data scientist 직무 경력직                                          LG전자                                                 서울특별시\n",
      "금융그룹사(연구소) Data Scientist 채용, 석사이상                                     금융대기업 (연구소)                                    서울\n",
      "Clinical Research Scientist / Clinical Research Assistant /...                       LVIS                                                   서울\n",
      "[KR] Biomedical Data Scientist                                                       Lunit                                                  서울 강남구\n",
      "AI혁신센터 경력직 수시채용 상시 지원(영입 시 종료)                                   교원그룹                                               서울 을지로2가\n",
      "Data Scientist (IBM Garage)                                                          IBM                                                    서울\n",
      "Data Scientist                                                                       뱅크샐러드                                             서울 영등포구\n",
      "Senior Data Scientist                                                                뱅크샐러드                                             서울 영등포구\n",
      "[Global] Research Scientist in AI Research                                           Lunit                                                  서울 강남구\n",
      "AI Data Scientist, AI 분석가_신입                                                    Success Korea                                          서울 선릉역\n",
      "[Data Scientist] 전문계약직                                                          하나카드                                               서울 중구\n",
      "Data Scientist                                                                       Boston Consulting Group                                서울\n",
      "Asset Optimization Analyst                                                           Netflix                                                서울\n",
      "Research Scientist(뉴로사이언티스트, 서울)                                           LVIS                                                   서울\n",
      "Data Scientist                                                                       Success Korea                                          서울\n",
      "Software Engineer Frontend                                                           트릿지                                                 서울 방배동\n",
      "인재풀 등록 (Data)                                                                   뱅크샐러드                                             서울 영등포구\n",
      "Senior AI/ML Consultant                                                              Amazon Web Services Korea LLC                          서울\n",
      "Senior Analyst - Data Analytics                                                      McKinsey & Company                                     서울\n",
      "AI Data Scientist, AI 분석가_경력직                                                  Success Korea                                          서울 선릉역\n",
      "데이터 마케팅 경력사원                                                               LG전자                                                 서울 영등포구\n",
      "Data Scientist (추천시스템 전략)                                                     Success Korea                                          서울\n",
      "Application Scientist                                                                Oxford Instruments Plc                                 서울\n",
      "Senior Data Scientist                                                                Boston Consulting Group                                서울\n",
      "Data Scientist / Programmer 채용                                                     Success Korea                                          서울 송파구\n",
      "Data Scientist / Programmer                                                          Success Korea                                          서울\n",
      "Data Scientist (Analytics Modeling Expert)                                           Success Korea                                          서울\n",
      "Data Scientist & Research Scientist                                                  Success Korea                                          서울 공덕동\n",
      "Decision Scientist (Mathematical optimization, Data analytic...                      Success Korea                                          서울\n",
      "Data Scientist, Business Analytics Consulting                                        Success Korea                                          서울\n",
      "빅데이타 컨설턴트                                                                    Success Korea                                          서울 강남구\n",
      "개인화 추천서비스 개발                                                               Success Korea                                          서울 삼성동\n",
      "빅 데이터 분석/응용                                                                  Success Korea                                          서울\n",
      "Data Scientist                                                                       휴먼디지털                                             서울\n",
      "Data Specialist (Scientist&&Engineer)                                                아우름플래닛                                           서울 마포구\n",
      "Customer Facing Data Scientist                                                       Ever Better Recruitment (EBR)                          서울\n",
      "화해 데이터 분석가(Data Scientist)                                                   버드뷰                                                 서울 마포구\n",
      "Developer / Designer recruit                                                         마이뮤직테이스트                                       서울 논현동\n",
      "APP/웹 콘텐츠 기획자                                                                 아트앤에셋                                             서울 종로구\n",
      "디자이너/개발자                                                                      아트앤에셋                                             서울 종로구\n",
      "Data Scientist / Programmer                                                          Success Korea                                          서울\n",
      "Data Scientist (Analytics Modeling Expert)                                           Success Korea                                          서울\n",
      "Data Scientist & Research Scientist                                                  Success Korea                                          서울 공덕동\n",
      "Decision Scientist (Mathematical optimization, Data analytic...                      Success Korea                                          서울\n",
      "Data Scientist, Business Analytics Consulting                                        Success Korea                                          서울\n",
      "개인화 추천서비스 개발                                                               Success Korea                                          서울 삼성동\n",
      "빅데이타 컨설턴트                                                                    Success Korea                                          서울 강남구\n",
      "빅 데이터 분석/응용                                                                  Success Korea                                          서울\n",
      "Data Scientist                                                                       휴먼디지털                                             서울\n",
      "Data Specialist (Scientist&&Engineer)                                                아우름플래닛                                           서울 마포구\n",
      "Customer Facing Data Scientist                                                       Ever Better Recruitment (EBR)                          서울\n",
      "화해 데이터 분석가(Data Scientist)                                                   버드뷰                                                 서울 마포구\n",
      "Developer / Designer recruit                                                         마이뮤직테이스트                                       서울 논현동\n",
      "APP/웹 콘텐츠 기획자                                                                 아트앤에셋                                             서울 종로구\n",
      "디자이너/개발자                                                                      아트앤에셋                                             서울 종로구\n"
     ]
    }
   ],
   "metadata": {}
  },
  {
   "cell_type": "code",
   "execution_count": null,
   "source": [],
   "outputs": [],
   "metadata": {}
  },
  {
   "cell_type": "markdown",
   "source": [
    "- - -\r\n",
    "# 메뉴 진입 및 데이터 확인 코드"
   ],
   "metadata": {}
  },
  {
   "cell_type": "code",
   "execution_count": null,
   "source": [
    "# 메뉴 테스트\r\n",
    "url = \"https://kr.indeed.com/jobs?q=data+scientist&l=%EC%84%9C%EC%9A%B8%ED%8A%B9%EB%B3%84%EC%8B%9C&sort=date&start=0\"\r\n",
    "link = requests.get(url)\r\n",
    "soup = BeautifulSoup(link.text, \"html.parser\")\r\n",
    "job_elems = soup.select(\".resultContent\")\r\n",
    "len(job_elems)\r\n",
    "# 그냥 긁어온 결과에서 필요한 내용만 2차원 리스트로 변경\r\n",
    "list_result = []\r\n",
    "for x in job_elems:\r\n",
    "    title = x.find(\"h2\")\r\n",
    "    company = x.find(\"span\", class_=\"companyName\")\r\n",
    "    location = x.find(\"div\", class_=\"companyLocation\")\r\n",
    "\r\n",
    "    if None in (title, company, location):\r\n",
    "        continue\r\n",
    "\r\n",
    "    list_result.append(title.text.strip())\r\n",
    "    list_result.append(company.text.strip())\r\n",
    "    list_result.append(location.text.strip())\r\n",
    "\r\n",
    "list_result = np.reshape(list_result, (-1, 3))\r\n",
    "print(tabulate(list_result, headers = [\"Title\", \"Company\", \"Location\"]))\r\n",
    "#\r\n",
    "# print(list_result)\r\n"
   ],
   "outputs": [],
   "metadata": {}
  },
  {
   "cell_type": "markdown",
   "source": [
    "- - -\r\n",
    "# 메뉴 순회 테스트"
   ],
   "metadata": {}
  },
  {
   "cell_type": "code",
   "execution_count": null,
   "source": [
    "list_result = []\r\n",
    "\r\n",
    "for x in range(7):\r\n",
    "    # 메뉴 테스트\r\n",
    "    url = \"https://kr.indeed.com/jobs?q=data+scientist&l=%EC%84%9C%EC%9A%B8%ED%8A%B9%EB%B3%84%EC%8B%9C&sort=date&start=\"+str(x*10)\r\n",
    "    link = requests.get(url)\r\n",
    "    soup = BeautifulSoup(link.text, \"html.parser\")\r\n",
    "    job_elems = soup.select(\".resultContent\")\r\n",
    "    len(job_elems)\r\n",
    "    # 그냥 긁어온 결과에서 필요한 내용만 2차원 리스트로 변경\r\n",
    "\r\n",
    "    for x in job_elems:\r\n",
    "        title = x.find(\"h2\")\r\n",
    "        company = x.find(\"span\", class_=\"companyName\")\r\n",
    "        location = x.find(\"div\", class_=\"companyLocation\")\r\n",
    "\r\n",
    "        if None in (title, company, location):\r\n",
    "            continue\r\n",
    "\r\n",
    "        list_result.append(title.text.strip())\r\n",
    "        list_result.append(company.text.strip())\r\n",
    "        list_result.append(location.text.strip())\r\n",
    "\r\n",
    "    \r\n",
    "    #print(list_result)\r\n",
    "\r\n",
    "list_result = np.reshape(list_result, (-1, 3))\r\n",
    "#print(list_result)\r\n",
    "#print(tabulate(list_result, headers = [\"Title\", \"Company\", \"Location\"]))\r\n",
    "for x in list_result:\r\n",
    "    print(\"{0:<100} | {1:<50} | {2:<50}\".format(x[0], x[1], x[2]))"
   ],
   "outputs": [],
   "metadata": {}
  },
  {
   "cell_type": "code",
   "execution_count": null,
   "source": [],
   "outputs": [],
   "metadata": {}
  },
  {
   "cell_type": "code",
   "execution_count": null,
   "source": [],
   "outputs": [],
   "metadata": {}
  },
  {
   "cell_type": "code",
   "execution_count": null,
   "source": [],
   "outputs": [],
   "metadata": {}
  },
  {
   "cell_type": "markdown",
   "source": [
    "- - -\r\n",
    "# 1페이지 크롤링"
   ],
   "metadata": {}
  },
  {
   "cell_type": "code",
   "execution_count": null,
   "source": [
    "url = \"https://kr.indeed.com/jobs?q=data+scientist&l=%EC%84%9C%EC%9A%B8%ED%8A%B9%EB%B3%84%EC%8B%9C\"\r\n",
    "link = requests.get(url)\r\n",
    "soup = BeautifulSoup(link.text, \"html.parser\")"
   ],
   "outputs": [],
   "metadata": {}
  },
  {
   "cell_type": "code",
   "execution_count": null,
   "source": [
    "job_elems = soup.select(\".resultContent\")\r\n",
    "len(job_elems)"
   ],
   "outputs": [],
   "metadata": {}
  },
  {
   "cell_type": "code",
   "execution_count": null,
   "source": [
    "# 그냥 긁어온 결과에서 필요한 내용만 2차원 리스트로 변경\r\n",
    "list_result = []\r\n",
    "for x in job_elems:\r\n",
    "    title = x.find(\"h2\")\r\n",
    "    company = x.find(\"span\", class_=\"companyName\")\r\n",
    "    location = x.find(\"div\", class_=\"companyLocation\")\r\n",
    "\r\n",
    "    if None in (title, company, location):\r\n",
    "        continue\r\n",
    "\r\n",
    "    list_result.append(title.text.strip())\r\n",
    "    list_result.append(company.text.strip())\r\n",
    "    list_result.append(location.text.strip())\r\n",
    "\r\n",
    "list_result = np.reshape(list_result, (-1, 3))\r\n",
    "print(tabulate(list_result, headers = [\"Title\", \"Company\", \"Location\"]))\r\n"
   ],
   "outputs": [],
   "metadata": {}
  },
  {
   "cell_type": "markdown",
   "source": [
    "- - -\r\n",
    "# 2페이지 크롤링"
   ],
   "metadata": {}
  },
  {
   "cell_type": "code",
   "execution_count": null,
   "source": [
    "url = \"https://kr.indeed.com/jobs?q=data+scientist&l=%EC%84%9C%EC%9A%B8%ED%8A%B9%EB%B3%84%EC%8B%9C&start=0\"\r\n",
    "link = requests.get(url)\r\n",
    "soup = BeautifulSoup(link.text, \"html.parser\")"
   ],
   "outputs": [],
   "metadata": {}
  },
  {
   "cell_type": "code",
   "execution_count": null,
   "source": [
    "job_elems = soup.select(\".resultContent\")\r\n",
    "len(job_elems)"
   ],
   "outputs": [],
   "metadata": {}
  },
  {
   "cell_type": "code",
   "execution_count": null,
   "source": [
    "# 그냥 긁어온 결과에서 필요한 내용만 2차원 리스트로 변경\r\n",
    "list_result = []\r\n",
    "for x in job_elems:\r\n",
    "    title = x.find(\"h2\")\r\n",
    "    company = x.find(\"span\", class_=\"companyName\")\r\n",
    "    location = x.find(\"div\", class_=\"companyLocation\")\r\n",
    "\r\n",
    "    if None in (title, company, location):\r\n",
    "        continue\r\n",
    "\r\n",
    "    list_result.append(title.text.strip())\r\n",
    "    list_result.append(company.text.strip())\r\n",
    "    list_result.append(location.text.strip())\r\n",
    "\r\n",
    "list_result = np.reshape(list_result, (-1, 3))\r\n",
    "print(list_result)\r\n",
    "#print(tabulate(list_result, headers = [\"Title\", \"Company\", \"Location\"]))\r\n"
   ],
   "outputs": [],
   "metadata": {}
  },
  {
   "cell_type": "markdown",
   "source": [
    "- - -\r\n",
    "# 3페이지 크롤링"
   ],
   "metadata": {}
  }
 ],
 "metadata": {
  "orig_nbformat": 4,
  "language_info": {
   "name": "python",
   "version": "3.8.8",
   "mimetype": "text/x-python",
   "codemirror_mode": {
    "name": "ipython",
    "version": 3
   },
   "pygments_lexer": "ipython3",
   "nbconvert_exporter": "python",
   "file_extension": ".py"
  },
  "kernelspec": {
   "name": "python3",
   "display_name": "Python 3.8.8 64-bit ('base': conda)"
  },
  "interpreter": {
   "hash": "b3ba2566441a7c06988d0923437866b63cedc61552a5af99d1f4fb67d367b25f"
  }
 },
 "nbformat": 4,
 "nbformat_minor": 2
}